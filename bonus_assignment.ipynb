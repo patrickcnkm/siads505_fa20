{
 "cells": [
  {
   "cell_type": "markdown",
   "metadata": {},
   "source": [
    "# Building Realistic Example Data\n",
    "This __optional bonus assignment__ is worth up to 5% of your final grade. It must be handed in by directly mailing the instructor (Christopher Brooks, brooksch@umich.edu) the assignment no later than Sunday September 27th at 11:59pm EST. This is not an all-or-nothing assignment, partial grades will be provided as appropriate."
   ]
  },
  {
   "cell_type": "markdown",
   "metadata": {},
   "source": [
    "## Assignment Overview\n",
    "A constant need I have when teaching pandas is finding compelling example data to work from. Good example data is real-world, messy enough to need some manipulation, and fits reasonable constraints for a given problem. For instance, if I want to demonstrate joining multiple `DataFrame` together I might want one which is about people and one which is about purchases, where every person has an identifier and a bunch of personal information, and every purchase is linked to a given person. This is much more compelling then a bunch of random `np.ndarray` lists that I create inline while trying to give a lecture!\n",
    "\n",
    "In addition, I'm taken by domain specific languages, and in this part of the assignment you are required to build a processor for a simple domain specific language I have invented for the purpose of describing pandas `DataFrame` structures! It is expected that you will demonstrate your knowledge of regex here in particular.\n",
    "\n",
    "Here's an example of the language I've created for this part of the assignment:\n",
    "```\n",
    "persons\n",
    "-------\n",
    "first_name\n",
    "last_name*\n",
    "phone_number\n",
    "random_number(5) as customer_number [1]*\n",
    "\n",
    "purchases\n",
    "---------\n",
    "isbn10\n",
    "credit_card_full\n",
    "random_number(3) as price\n",
    "random_number(5) as customer_number [1]\n",
    "```\n",
    "\n",
    "In this example I describe two `DataFrame` objects by underlying a string with two or more hyphens. The string (`persons` and `purchases`) should be used as the variable name for the `DataFrame` objects created, and the language will always separate multiple `DataFrame` definitions by whitespace and hyphens as shown. Each column in the `DataFrame` is described on its own line with a string (e.g. `first_name*`). The string defines the column as follows:\n",
    "\n",
    "1. The first word (e.g. `first_name` or `random_number(3)`) describes a function  and optional set of parameters to be called against a common `faker` object (an instance of the `Faker` class) for each entry in the resulting `DataFrame`. For instance, a value of `isbn10` implies that `faker.isbn10()` be called (note the default parameters), while a value of `random_number(5)` implies that `faker.random_number(5)` be called (with my supplied parameters).\n",
    "2. The first word *may* be followed by some whitespace and then an `as` statement. The `as` statement denotes that the following word be used as the name of the column. For instance, `random_number(3) as price` means that I'm looking for a column named `price` where every instance in the column is of a `faker.random_number(3)` invocation.\n",
    "3. If there is no `as` statement the name of the column should be the name of the function (with no parameters) I supplied, e.g. `first_name`.\n",
    "4. The definition may include a reference in the format `[#]` where the # sign is any number. This reference will be used across tables to show that the data in those tables should be of a similar set of values. This is so I can join between tables, which is a common need to demonstrate. In the example given I want each of the tables to have a column called `customer_number` where the data values in the column are such that `set(column1)==set(column2)`. Note that this doesn't mean the columns should be the same (they shouldn't), but just that they should include only 100% overlapping data. See point 6 for data distribution. **Clarification: In the example here, all of the `customer_number` values in `persons` should be unique (hence the `*`), but in the referencing collumn `purchases[customer_number]` the uniqueness is relaxed. This means that there does not have to be a 1:1 mapping as implied, and that it is a 1:many mapping, and in this case since `purchases` has repeated data you could verify this with `set(purchases['customer_number']).issubset(set(persons['customer_number']))`.**\n",
    "5. The sentence may end with a `*`. This indicates that the column described should be made up of unique data (no repeated elements). For instance, you wouldn't want a customer to be accidently assigned the customer number of another person! In the example above I decided I wanted the `last_name` of the persons and their `customer_number` to be unique in that table.\n",
    "6. By default a column should have 25% repeated data. e.g. something close to `len(column)==len(set(column))*1.25`. This lets me demonstrate operations such as left joins easily.\n",
    "7. By default, the length of each `DataFrame` created should be 99 items. This is both reasonable for most demonstrations, and a homage to The Great One.\n",
    "8. The functionality described should be executed in a cell magic function called `%%fakedata`, where the remainder of the cell is the definition in plain text. See https://ipython.readthedocs.io/en/stable/config/custommagics.html for more details."
   ]
  },
  {
   "cell_type": "markdown",
   "metadata": {},
   "source": [
    "## An attempt at a more formal grammar\n",
    "\n",
    "```\n",
    "function_to_call  ::= <wordcharacters>\n",
    "parameters        ::= \"\" | \"(\" ( wordcharacters | number ) \")\"\n",
    "as_name           ::= \"\" | \"as\" <whitespace> <wordcharacters>\n",
    "column_name       ::= as_name | function_to_call\n",
    "reference         ::= \"\" |  \"[\" number \"]\"\n",
    "unique_mark       ::= \"\" | \"*\"\n",
    "column_definition ::= <function_to_call> <parameters> <whitespace> \\\n",
    "                      <as_name> <whitespace> <reference> <unique_mark>\n",
    "df_sep            ::= \"--\" (\"-\"*)\n",
    "df_definition     ::= <wordcharacters> <newline> <df_sep> <newline> \\\n",
    "                      (<column_definition>*) <newline> <newline>\n",
    "language_spec     ::= <def_definition>*\n",
    "```\n"
   ]
  },
  {
   "cell_type": "markdown",
   "metadata": {},
   "source": [
    "## Background: What is this `Faker` class?\n",
    "The `Faker` class defines a number of great functions that generate realistic data. The way it works is that you create a new instance of `Faker` with no parameters, then call various methods on that object which are predefined at https://faker.readthedocs.io/en/stable/\n",
    "\n",
    "This is demonstrated below showing a single entry into a `DataFrame` using the description above."
   ]
  },
  {
   "cell_type": "code",
   "execution_count": 63,
   "metadata": {
    "ExecuteTime": {
     "end_time": "2020-09-27T05:30:32.652185Z",
     "start_time": "2020-09-27T05:30:31.077892Z"
    }
   },
   "outputs": [
    {
     "data": {
      "text/html": [
       "<div>\n",
       "<style scoped>\n",
       "    .dataframe tbody tr th:only-of-type {\n",
       "        vertical-align: middle;\n",
       "    }\n",
       "\n",
       "    .dataframe tbody tr th {\n",
       "        vertical-align: top;\n",
       "    }\n",
       "\n",
       "    .dataframe thead th {\n",
       "        text-align: right;\n",
       "    }\n",
       "</style>\n",
       "<table border=\"1\" class=\"dataframe\">\n",
       "  <thead>\n",
       "    <tr style=\"text-align: right;\">\n",
       "      <th></th>\n",
       "      <th>first_name</th>\n",
       "      <th>last_name</th>\n",
       "      <th>phone_number</th>\n",
       "      <th>customer_number</th>\n",
       "    </tr>\n",
       "  </thead>\n",
       "  <tbody>\n",
       "    <tr>\n",
       "      <th>0</th>\n",
       "      <td>Gregory</td>\n",
       "      <td>Charles</td>\n",
       "      <td>011.213.5278x36096</td>\n",
       "      <td>54280</td>\n",
       "    </tr>\n",
       "  </tbody>\n",
       "</table>\n",
       "</div>"
      ],
      "text/plain": [
       "  first_name last_name        phone_number  customer_number\n",
       "0    Gregory   Charles  011.213.5278x36096            54280"
      ]
     },
     "execution_count": 63,
     "metadata": {},
     "output_type": "execute_result"
    }
   ],
   "source": [
    "import pandas as pd\n",
    "from faker import Faker\n",
    "\n",
    "fake = Faker()\n",
    "person = pd.DataFrame( [{\"first_name\": fake.first_name(),\n",
    "                        \"last_name\": fake.last_name(),\n",
    "                        \"phone_number\": fake.phone_number(),\n",
    "                        \"customer_number\": fake.random_number(5)}])\n",
    "person"
   ]
  },
  {
   "cell_type": "markdown",
   "metadata": {},
   "source": [
    "## Some example test cases\n",
    "There is no autograder for this assignment, but it might be useful to see some example test cases, so imagine that I was going to run your code using the following cells. My assumption is that your code to define, load, and run the magic function goes in one cell at the top of the notebook)."
   ]
  },
  {
   "cell_type": "code",
   "execution_count": 64,
   "metadata": {
    "ExecuteTime": {
     "end_time": "2020-09-27T05:30:34.098230Z",
     "start_time": "2020-09-27T05:30:34.089011Z"
    }
   },
   "outputs": [
    {
     "data": {
      "text/plain": [
       "['persons',\n",
       " '-------',\n",
       " 'first_name',\n",
       " 'last_name*',\n",
       " 'phone_number',\n",
       " 'random_number(5) as customer_number [1]*',\n",
       " '',\n",
       " 'purchases',\n",
       " '---------',\n",
       " 'isbn10',\n",
       " 'credit_card_full',\n",
       " 'random_number(3) as price',\n",
       " 'random_number(5) as customer_number [1]',\n",
       " '']"
      ]
     },
     "execution_count": 64,
     "metadata": {},
     "output_type": "execute_result"
    }
   ],
   "source": [
    "%%fakedata\n",
    "persons\n",
    "-------\n",
    "first_name\n",
    "last_name*\n",
    "phone_number\n",
    "random_number(5) as customer_number [1]*\n",
    "\n",
    "purchases\n",
    "---------\n",
    "isbn10\n",
    "credit_card_full\n",
    "random_number(3) as price\n",
    "random_number(5) as customer_number [1]"
   ]
  },
  {
   "cell_type": "code",
   "execution_count": 277,
   "metadata": {
    "ExecuteTime": {
     "end_time": "2020-09-27T14:57:43.594080Z",
     "start_time": "2020-09-27T14:57:43.494487Z"
    }
   },
   "outputs": [],
   "source": [
    "import pandas as pd\n",
    "from faker import Faker\n",
    "\n",
    "fake = Faker()\n",
    "def list_to_df(list):\n",
    "    list_len=len(list)\n",
    "    df=[]\n",
    "    df_list=[]\n",
    "    current_df=''\n",
    "    for i in range(list_len):\n",
    "        #print('i={}, and list[{}]={}'.format(i,i,list[i]))\n",
    "        #find the names of dataframe\n",
    "        if i==0 or list[i-1]=='':\n",
    "                #df.append('{} = pd.DataFrame()'.format(list[i]))\n",
    "                df.append('{} = pd.DataFrame()'.format(list[i]))\n",
    "                current_df=list[i]\n",
    "                df.append('df_list.append({})'.format(current_df))\n",
    "                \n",
    "        else:\n",
    "            if (list[i].find('--')==-1) and (list[i]!=''):\n",
    "                \n",
    "                # Normal fields\n",
    "                if (list[i].find('*')==-1) and (list[i].find(' as ')==-1):\n",
    "                    df.append('{}[\"{}\"]=fake.{}()'.format(current_df,list[i],list[i]))\n",
    "                    \n",
    "                # Fields with unique row and alias  \n",
    "                if list[i].find(' as ')!=-1:\n",
    "                    list[i]=list[i].replace('*','')\n",
    "                    alias=list[i].split(' ')\n",
    "                    df.append('{}[\"{}\"]=fake.{}'.format(current_df,alias[2],alias[0]))\n",
    "                # Fields with unique row and no alias \n",
    "                else:\n",
    "                    if list[i].find('*')!=-1:\n",
    "                        list[i]=list[i].replace('*','')\n",
    "                        df.append('{}[\"{}\"]=fake.{}()'.format(current_df,list[i],list[i]))\n",
    "    for item in df:\n",
    "        exec(item)\n",
    "    return df_list"
   ]
  },
  {
   "cell_type": "code",
   "execution_count": 281,
   "metadata": {
    "ExecuteTime": {
     "end_time": "2020-09-27T15:00:08.682222Z",
     "start_time": "2020-09-27T15:00:08.675426Z"
    }
   },
   "outputs": [],
   "source": [
    "from IPython.core.magic import (register_line_magic, register_cell_magic,\n",
    "                                register_line_cell_magic)\n",
    "\n",
    "@register_line_magic\n",
    "def lmagic(line):\n",
    "    \"my line magic\"\n",
    "    return line\n",
    "\n",
    "@register_cell_magic\n",
    "def fakedata(line, cell=None):\n",
    "    \"my cell magic\"\n",
    "    #cell=re.sub(r'\\[[^()]*\\]', '', str(cell))\n",
    "    pd_list=str(cell).split('\\n')\n",
    "    list_to_df(pd_list)\n",
    "    return cell"
   ]
  },
  {
   "cell_type": "code",
   "execution_count": 282,
   "metadata": {
    "ExecuteTime": {
     "end_time": "2020-09-27T15:00:09.427567Z",
     "start_time": "2020-09-27T15:00:09.409559Z"
    }
   },
   "outputs": [
    {
     "data": {
      "text/plain": [
       "'persons\\n-------\\nfirst_name\\nlast_name*\\nphone_number\\nrandom_number(5) as customer_number [1]*\\n\\npurchases\\n---------\\nisbn10\\ncredit_card_full\\nrandom_number(3) as price\\nrandom_number(5) as customer_number [1]\\n'"
      ]
     },
     "execution_count": 282,
     "metadata": {},
     "output_type": "execute_result"
    }
   ],
   "source": [
    "%%fakedata\n",
    "persons\n",
    "-------\n",
    "first_name\n",
    "last_name*\n",
    "phone_number\n",
    "random_number(5) as customer_number [1]*\n",
    "\n",
    "purchases\n",
    "---------\n",
    "isbn10\n",
    "credit_card_full\n",
    "random_number(3) as price\n",
    "random_number(5) as customer_number [1]"
   ]
  },
  {
   "cell_type": "code",
   "execution_count": 283,
   "metadata": {
    "ExecuteTime": {
     "end_time": "2020-09-27T15:00:12.472636Z",
     "start_time": "2020-09-27T15:00:12.455927Z"
    }
   },
   "outputs": [
    {
     "ename": "AssertionError",
     "evalue": "You should automatically set the persons and purchases objects",
     "output_type": "error",
     "traceback": [
      "\u001b[0;31m---------------------------------------------------------------------------\u001b[0m",
      "\u001b[0;31mAssertionError\u001b[0m                            Traceback (most recent call last)",
      "\u001b[0;32m<ipython-input-283-82e103fa4a8d>\u001b[0m in \u001b[0;36m<module>\u001b[0;34m\u001b[0m\n\u001b[0;32m----> 1\u001b[0;31m \u001b[0;32massert\u001b[0m \u001b[0;34m(\u001b[0m\u001b[0;34m'persons'\u001b[0m \u001b[0;32min\u001b[0m \u001b[0mlocals\u001b[0m\u001b[0;34m(\u001b[0m\u001b[0;34m)\u001b[0m\u001b[0;34m)\u001b[0m\u001b[0;34m,\u001b[0m \u001b[0;34m\"You should automatically set the persons and purchases objects\"\u001b[0m\u001b[0;34m\u001b[0m\u001b[0;34m\u001b[0m\u001b[0m\n\u001b[0m\u001b[1;32m      2\u001b[0m \u001b[0;32massert\u001b[0m \u001b[0;34m(\u001b[0m\u001b[0;34m'purchases'\u001b[0m \u001b[0;32min\u001b[0m \u001b[0mlocals\u001b[0m\u001b[0;34m(\u001b[0m\u001b[0;34m)\u001b[0m\u001b[0;34m)\u001b[0m\u001b[0;34m,\u001b[0m \u001b[0;34m\"You should automatically set the persons and purchases objects\"\u001b[0m\u001b[0;34m\u001b[0m\u001b[0;34m\u001b[0m\u001b[0m\n\u001b[1;32m      3\u001b[0m \u001b[0;32massert\u001b[0m \u001b[0;34m(\u001b[0m\u001b[0mtype\u001b[0m\u001b[0;34m(\u001b[0m\u001b[0mpersons\u001b[0m\u001b[0;34m)\u001b[0m\u001b[0;34m==\u001b[0m\u001b[0mpd\u001b[0m\u001b[0;34m.\u001b[0m\u001b[0mDataFrame\u001b[0m\u001b[0;34m)\u001b[0m\u001b[0;34m,\u001b[0m \u001b[0;34m\"You should be setting persons and purchases to be DataFrame objects\"\u001b[0m\u001b[0;34m\u001b[0m\u001b[0;34m\u001b[0m\u001b[0m\n\u001b[1;32m      4\u001b[0m \u001b[0;32massert\u001b[0m \u001b[0;34m(\u001b[0m\u001b[0mlen\u001b[0m\u001b[0;34m(\u001b[0m\u001b[0mpersons\u001b[0m\u001b[0;34m)\u001b[0m\u001b[0;34m==\u001b[0m\u001b[0;36m99\u001b[0m\u001b[0;34m)\u001b[0m\u001b[0;34m,\u001b[0m \u001b[0;34m\"All Hail the Great One!\"\u001b[0m\u001b[0;34m\u001b[0m\u001b[0;34m\u001b[0m\u001b[0m\n\u001b[1;32m      5\u001b[0m \u001b[0;32massert\u001b[0m \u001b[0;34m(\u001b[0m\u001b[0mset\u001b[0m\u001b[0;34m(\u001b[0m\u001b[0mpurchases\u001b[0m\u001b[0;34m[\u001b[0m\u001b[0;34m'customer_number'\u001b[0m\u001b[0;34m]\u001b[0m\u001b[0;34m)\u001b[0m\u001b[0;34m.\u001b[0m\u001b[0missubset\u001b[0m\u001b[0;34m(\u001b[0m\u001b[0mset\u001b[0m\u001b[0;34m(\u001b[0m\u001b[0mpersons\u001b[0m\u001b[0;34m[\u001b[0m\u001b[0;34m'customer_number'\u001b[0m\u001b[0;34m]\u001b[0m\u001b[0;34m)\u001b[0m\u001b[0;34m)\u001b[0m\u001b[0;34m)\u001b[0m\u001b[0;34m,\u001b[0m \u001b[0;34m\"Check the clarification in the description carefully\"\u001b[0m\u001b[0;34m\u001b[0m\u001b[0;34m\u001b[0m\u001b[0m\n",
      "\u001b[0;31mAssertionError\u001b[0m: You should automatically set the persons and purchases objects"
     ]
    }
   ],
   "source": [
    "assert ('persons' in locals()), \"You should automatically set the persons and purchases objects\"\n",
    "assert ('purchases' in locals()), \"You should automatically set the persons and purchases objects\"\n",
    "assert (type(persons)==pd.DataFrame), \"You should be setting persons and purchases to be DataFrame objects\"\n",
    "assert (len(persons)==99), \"All Hail the Great One!\"\n",
    "assert (set(purchases['customer_number']).issubset(set(persons['customer_number']))), \"Check the clarification in the description carefully\""
   ]
  },
  {
   "cell_type": "code",
   "execution_count": 274,
   "metadata": {
    "ExecuteTime": {
     "end_time": "2020-09-27T14:56:56.324473Z",
     "start_time": "2020-09-27T14:56:56.199667Z"
    }
   },
   "outputs": [],
   "source": []
  },
  {
   "cell_type": "code",
   "execution_count": 275,
   "metadata": {
    "ExecuteTime": {
     "end_time": "2020-09-27T14:56:57.395472Z",
     "start_time": "2020-09-27T14:56:57.368632Z"
    }
   },
   "outputs": [],
   "source": []
  },
  {
   "cell_type": "code",
   "execution_count": 276,
   "metadata": {
    "ExecuteTime": {
     "end_time": "2020-09-27T14:56:58.717169Z",
     "start_time": "2020-09-27T14:56:58.696447Z"
    }
   },
   "outputs": [
    {
     "data": {
      "text/plain": [
       "[Empty DataFrame\n",
       " Columns: [first_name, last_name, phone_number, customer_number]\n",
       " Index: [],\n",
       " Empty DataFrame\n",
       " Columns: [isbn10, credit_card_full, price, customer_number]\n",
       " Index: []]"
      ]
     },
     "execution_count": 276,
     "metadata": {},
     "output_type": "execute_result"
    }
   ],
   "source": []
  }
 ],
 "metadata": {
  "kernelspec": {
   "display_name": "Python 3",
   "language": "python",
   "name": "python3"
  },
  "language_info": {
   "codemirror_mode": {
    "name": "ipython",
    "version": 3
   },
   "file_extension": ".py",
   "mimetype": "text/x-python",
   "name": "python",
   "nbconvert_exporter": "python",
   "pygments_lexer": "ipython3",
   "version": "3.7.7"
  }
 },
 "nbformat": 4,
 "nbformat_minor": 4
}
